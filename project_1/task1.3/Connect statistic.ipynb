{
 "cells": [
  {
   "cell_type": "code",
   "execution_count": 18,
   "metadata": {
    "collapsed": true
   },
   "outputs": [],
   "source": [
    "import matplotlib.pyplot as plt\n",
    "import numpy as np\n",
    "%matplotlib inline"
   ]
  },
  {
   "cell_type": "code",
   "execution_count": 19,
   "metadata": {
    "collapsed": true
   },
   "outputs": [],
   "source": [
    "# relate numbers (1, -1, 0) to symbols ('x', 'o', ' ')\n",
    "symbols = {1: 'x', -1: 'o', 0: ' '}\n",
    "\n",
    "n_rows = 6\n",
    "n_columns = 7\n",
    "winning_sum = 4\n",
    "\n",
    "diagonal_shifts = xrange(-2, 4, 1)\n"
   ]
  },
  {
   "cell_type": "code",
   "execution_count": 20,
   "metadata": {
    "collapsed": false
   },
   "outputs": [],
   "source": [
    "class ConnectFourGame:\n",
    "    def __init__(self):\n",
    "        self.game_state = np.zeros((n_rows, n_columns), dtype=int)\n",
    "\n",
    "    \"\"\"Prints current game state\"\"\"\n",
    "    def print_game_state(self):\n",
    "        state_matrix = np.copy(self.game_state.astype(object))\n",
    "\n",
    "        for n in [-1, 0, 1]:\n",
    "            state_matrix[state_matrix == n] = symbols[n]\n",
    "        print state_matrix\n",
    "        print \"\\n\"\n",
    "\n",
    "    \"\"\"\n",
    "    If parameter column is equal to None, that means, that\n",
    "    move is made at random.\n",
    "    \"\"\"\n",
    "    def make_move(self, p, column=None):\n",
    "        if column is None:\n",
    "            column = self.__select_column_at_random()\n",
    "\n",
    "        # Slicing the whole target column and finding first available\n",
    "        # row for insertion of a new element.\n",
    "        chosen_column = self.game_state[:, column]\n",
    "        desired_row = -1\n",
    "        for i, e in list(enumerate(chosen_column)):\n",
    "            if e == 0:\n",
    "                desired_row = i\n",
    "\n",
    "        # If an empty cell was found\n",
    "        if desired_row != -1:\n",
    "            self.game_state[desired_row, column] = p\n",
    "\n",
    "    \"\"\"This method checks whether one player has won the game\"\"\"\n",
    "    def move_was_winning_move(self):\n",
    "\n",
    "        # Check all rows if there is a winning combination\n",
    "        for i in range(n_rows):\n",
    "            row_to_check = self.game_state[i, :]\n",
    "            if (row_to_check == 0).sum() <= 3:\n",
    "                if self.__check_all_sublists(row_to_check):\n",
    "                    return True\n",
    "\n",
    "        # Check all columns if there is a winning combination\n",
    "        for i in range(n_columns):\n",
    "            column_to_check = self.game_state[:, i]\n",
    "            if (column_to_check == 0).sum() <= 3:\n",
    "                if self.__check_all_sublists(column_to_check):\n",
    "                    return True\n",
    "\n",
    "        # TODO proper naming in comments required\n",
    "\n",
    "        # Check all diagonals of length at least 4\n",
    "        # if there is a winning combination\n",
    "        for i in diagonal_shifts:\n",
    "            diagonal = self.game_state.diagonal(i)\n",
    "            if (diagonal == 0).sum() <= 3:\n",
    "                if self.__check_all_sublists(diagonal):\n",
    "                    return True\n",
    "\n",
    "        # Check all non-main diagonals of length at least 4\n",
    "        # if there is a winning combination\n",
    "        for i in diagonal_shifts:\n",
    "            diagonal = np.rot90(self.game_state).diagonal(i)\n",
    "            if (diagonal == 0).sum() <= 3:\n",
    "                if self.__check_all_sublists(diagonal):\n",
    "                    return True\n",
    "        return False\n",
    "\n",
    "    \"\"\"Constructs sublists of given list and\n",
    "    check whether there is a winning combination for sublists with length 4\"\"\"\n",
    "    def __check_all_sublists(self, list_to_check):\n",
    "        sublists = [list_to_check[i:i + winning_sum] for i in\n",
    "                    range(0, len(list_to_check), 1)]\n",
    "\n",
    "        for sublist in sublists:\n",
    "            if len(sublist) < winning_sum:\n",
    "                continue\n",
    "            if np.abs(np.sum(sublist)) == winning_sum:\n",
    "                return True\n",
    "\n",
    "        return False\n",
    "\n",
    "    \"\"\"Checks whether there are still empty cells in matrix\"\"\"\n",
    "    def move_still_possible(self):\n",
    "        return not (self.game_state[self.game_state == 0].size == 0)\n",
    "\n",
    "    \"\"\"Returns index of randomly chosen column for element insertion\"\"\"\n",
    "    def __select_column_at_random(self):\n",
    "        xs, ys = np.where(self.game_state == 0)\n",
    "        i = np.random.permutation(np.arange(ys.size))[0]\n",
    "        return ys[i]\n"
   ]
  },
  {
   "cell_type": "code",
   "execution_count": 21,
   "metadata": {
    "collapsed": true
   },
   "outputs": [],
   "source": [
    "x_wins = 0\n",
    "o_wins = 0\n",
    "draws = 0"
   ]
  },
  {
   "cell_type": "code",
   "execution_count": 22,
   "metadata": {
    "collapsed": false
   },
   "outputs": [],
   "source": [
    "def run_random_game():\n",
    "    global x_wins\n",
    "    global o_wins\n",
    "    global draws\n",
    "    game = ConnectFourGame()\n",
    "\n",
    "    # initialize player number, move counter\n",
    "    player = 1\n",
    "    mvcntr = 1\n",
    "\n",
    "    # initialize flag that indicates win\n",
    "    no_winner_yet = True\n",
    "\n",
    "    while game.move_still_possible() and no_winner_yet:\n",
    "        # get player symbol\n",
    "        name = symbols[player]\n",
    "        #print '%s moves' % name\n",
    "\n",
    "        # let player move at random\n",
    "        game.make_move(player)\n",
    "\n",
    "        # print current game state\n",
    "        #game.print_game_state()\n",
    "\n",
    "        # evaluate game state\n",
    "        if game.move_was_winning_move():\n",
    "            #print 'player %s wins after %d moves' % (name, mvcntr)\n",
    "            no_winner_yet = False\n",
    "            if player == 1:\n",
    "                x_wins += 1\n",
    "            else:\n",
    "                o_wins += 1\n",
    "\n",
    "        # switch player and increase move counter\n",
    "        player *= -1\n",
    "        mvcntr += 1\n",
    "\n",
    "    if no_winner_yet:\n",
    "        # print 'game ended in a draw'\n",
    "        draws += 1"
   ]
  },
  {
   "cell_type": "code",
   "execution_count": 23,
   "metadata": {
    "collapsed": false
   },
   "outputs": [],
   "source": [
    "x_wins, o_wins, draws = 0, 0, 0 \n",
    "for i in range(10000):\n",
    "    run_random_game()"
   ]
  },
  {
   "cell_type": "code",
   "execution_count": 24,
   "metadata": {
    "collapsed": false
   },
   "outputs": [
    {
     "name": "stdout",
     "output_type": "stream",
     "text": [
      "5669\n",
      "4304\n",
      "27\n"
     ]
    }
   ],
   "source": [
    "print x_wins\n",
    "print o_wins\n",
    "print draws"
   ]
  },
  {
   "cell_type": "code",
   "execution_count": 25,
   "metadata": {
    "collapsed": false
   },
   "outputs": [
    {
     "data": {
      "image/png": "[encoded data removed]",
      "text/plain": [
       "<matplotlib.figure.Figure at 0x10a05f950>"
      ]
     },
     "metadata": {},
     "output_type": "display_data"
    }
   ],
   "source": [
    "from matplotlib.ticker import FuncFormatter\n",
    "import matplotlib.pyplot as plt\n",
    "import numpy as np\n",
    "%matplotlib inline\n",
    "x = np.arange(3)\n",
    "money = [x_wins, draws, o_wins]\n",
    "\n",
    "\n",
    "fig, ax = plt.subplots()\n",
    "plt.bar(x, money)\n",
    "plt.xticks(x, ('First player', 'Second player', 'Draws'))\n",
    "plt.show()"
   ]
  },
  {
   "cell_type": "code",
   "execution_count": 26,
   "metadata": {
    "collapsed": false
   },
   "outputs": [
    {
     "data": {
      "image/png": "[encoded data removed]",
      "text/plain": [
       "<matplotlib.figure.Figure at 0x10e834c10>"
      ]
     },
     "metadata": {},
     "output_type": "display_data"
    }
   ],
   "source": [
    "\"\"\"\n",
    "========\n",
    "Barchart\n",
    "========\n",
    "\n",
    "A bar plot with errorbars and height labels on individual bars\n",
    "\"\"\"\n",
    "import numpy as np\n",
    "import matplotlib.pyplot as plt\n",
    "\n",
    "N = 5\n",
    "men_means = (20, 35, 30, 35, 27)\n",
    "men_std = (2, 3, 4, 1, 2)\n",
    "\n",
    "ind = np.arange(N)  # the x locations for the groups\n",
    "width = 0.35       # the width of the bars\n",
    "\n",
    "fig, ax = plt.subplots()\n",
    "rects1 = ax.bar(ind, men_means, width, color='r', yerr=men_std)\n",
    "\n",
    "fig.set_size_inches(18.5, 10.5)\n",
    "women_means = (25, 32, 34, 20, 25)\n",
    "women_std = (3, 5, 2, 3, 3)\n",
    "rects2 = ax.bar(ind + width, women_means, width, color='y', yerr=women_std)\n",
    "\n",
    "# add some text for labels, title and axes ticks\n",
    "ax.set_ylabel('Scores')\n",
    "ax.set_title('Scores by group and gender')\n",
    "ax.set_xticks(ind + width)\n",
    "ax.set_xticklabels(('G1', 'G2', 'G3', 'G4', 'G5'))\n",
    "\n",
    "ax.legend((rects1[0], rects2[0]), ('Men', 'Women'))\n",
    "\n",
    "\n",
    "def autolabel(rects):\n",
    "    \"\"\"\n",
    "    Attach a text label above each bar displaying its height\n",
    "    \"\"\"\n",
    "    for rect in rects:\n",
    "        height = rect.get_height()\n",
    "        ax.text(rect.get_x() + rect.get_width()/1.5, 1.05*height,\n",
    "                '%d' % int(height),\n",
    "                ha='center', va='bottom')\n",
    "\n",
    "autolabel(rects1)\n",
    "autolabel(rects2)\n",
    "\n",
    "plt.show()"
   ]
  },
  {
   "cell_type": "code",
   "execution_count": null,
   "metadata": {
    "collapsed": true
   },
   "outputs": [],
   "source": []
  },
  {
   "cell_type": "code",
   "execution_count": null,
   "metadata": {
    "collapsed": true
   },
   "outputs": [],
   "source": []
  }
 ],
 "metadata": {
  "kernelspec": {
   "display_name": "Python 2",
   "language": "python",
   "name": "python2"
  },
  "language_info": {
   "codemirror_mode": {
    "name": "ipython",
    "version": 2
   },
   "file_extension": ".py",
   "mimetype": "text/x-python",
   "name": "python",
   "nbconvert_exporter": "python",
   "pygments_lexer": "ipython2",
   "version": "2.7.10"
  }
 },
 "nbformat": 4,
 "nbformat_minor": 0
}
