{
 "cells": [
  {
   "cell_type": "code",
   "execution_count": 6,
   "metadata": {},
   "outputs": [],
   "source": [
    "import matplotlib.pyplot as plt\n",
    "import numpy as np\n",
    "%matplotlib inline"
   ]
  },
  {
   "cell_type": "code",
   "execution_count": 7,
   "metadata": {},
   "outputs": [],
   "source": [
    "%run connect_four_game.py\n",
    "%run constants.py"
   ]
  },
  {
   "cell_type": "code",
   "execution_count": 13,
   "metadata": {},
   "outputs": [],
   "source": [
    "def run_random_game():\n",
    "    global x_wins\n",
    "    global o_wins\n",
    "    global draws\n",
    "    global win_pos_x\n",
    "    global win_pos_o\n",
    "    game = ConnectFourGame()\n",
    "\n",
    "    # initialize player number, move counter\n",
    "    player = 1\n",
    "    mvcntr = 1\n",
    "\n",
    "    # initialize flag that indicates win\n",
    "    no_winner_yet = True\n",
    "\n",
    "    while game.move_still_possible() and no_winner_yet:\n",
    "        # get player symbol\n",
    "        name = symbols[player]\n",
    "        #print '%s moves' % name\n",
    "\n",
    "        # let player move at random\n",
    "        game.make_move(player)\n",
    "\n",
    "        # print current game state\n",
    "        #game.print_game_state()\n",
    "\n",
    "        # evaluate game state\n",
    "        if game.move_was_winning_move():\n",
    "            #print 'player %s wins after %d moves' % (name, mvcntr)\n",
    "            no_winner_yet = False\n",
    "            if player == 1:\n",
    "                x_wins += 1\n",
    "                win_pos_x[game.game_state == 1] +=1\n",
    "            else:\n",
    "                o_wins += 1\n",
    "                win_pos_o[game.game_state == -1] +=1\n",
    "#             print game.game_state\n",
    "#             print '\\n'\n",
    "        # switch player and increase move counter\n",
    "        player *= -1\n",
    "        mvcntr += 1\n",
    "\n",
    "    if no_winner_yet:\n",
    "        # print 'game ended in a draw'\n",
    "        draws += 1"
   ]
  },
  {
   "cell_type": "code",
   "execution_count": 18,
   "metadata": {},
   "outputs": [
    {
     "name": "stdout",
     "output_type": "stream",
     "text": [
      "5\n",
      "5\n",
      "0\n",
      "[[0 0 0 1 0 0 0]\n",
      " [0 1 3 1 1 1 0]\n",
      " [2 0 1 3 1 1 1]\n",
      " [0 2 2 2 2 3 2]\n",
      " [1 2 2 2 2 1 1]\n",
      " [2 2 2 2 3 4 3]]\n",
      "[[0 0 0 0 0 0 1]\n",
      " [0 0 0 0 1 0 1]\n",
      " [1 1 1 1 1 0 1]\n",
      " [3 1 2 1 2 0 2]\n",
      " [2 2 2 3 4 3 2]\n",
      " [1 3 2 4 3 3 1]]\n"
     ]
    }
   ],
   "source": [
    "x_wins, o_wins, draws = 0, 0, 0 \n",
    "win_pos_x = np.zeros((n_rows, n_columns), dtype=int)\n",
    "win_pos_o  = np.zeros((n_rows, n_columns), dtype=int)\n",
    "for i in range(10):\n",
    "    run_random_game()\n",
    "print x_wins\n",
    "print o_wins\n",
    "print draws\n",
    "print win_pos_x\n",
    "print win_pos_o"
   ]
  },
  {
   "cell_type": "code",
   "execution_count": 22,
   "metadata": {},
   "outputs": [
    {
     "name": "stdout",
     "output_type": "stream",
     "text": [
      "556\n",
      "442\n",
      "2\n"
     ]
    },
    {
     "data": {
      "image/png": "[encoded data removed]",
      "text/plain": [
       "<Figure size 432x288 with 1 Axes>"
      ]
     },
     "metadata": {},
     "output_type": "display_data"
    },
    {
     "name": "stdout",
     "output_type": "stream",
     "text": [
      "1117\n",
      "883\n",
      "0\n"
     ]
    },
    {
     "data": {
      "image/png": "[encoded data removed]",
      "text/plain": [
       "<Figure size 432x288 with 1 Axes>"
      ]
     },
     "metadata": {},
     "output_type": "display_data"
    }
   ],
   "source": [
    "from matplotlib.ticker import FuncFormatter\n",
    "import matplotlib.pyplot as plt\n",
    "import numpy as np\n",
    "%matplotlib inline\n",
    "\n",
    "games_num = [1000, 2000]\n",
    "\n",
    "for i in games_num:\n",
    "    x_wins, o_wins, draws = 0, 0, 0\n",
    "    for j in range(i):\n",
    "        run_random_game()\n",
    "    print x_wins\n",
    "    print o_wins\n",
    "    print draws\n",
    "    x = np.arange(3)\n",
    "    money = [x_wins, o_wins, draws]\n",
    "    fig, ax = plt.subplots()\n",
    "    plt.bar(x, money)\n",
    "    plt.xticks(x, ('First player', 'Second player', 'Draws'))\n",
    "    plt.show()"
   ]
  },
  {
   "cell_type": "code",
   "execution_count": 21,
   "metadata": {},
   "outputs": [
    {
     "data": {
      "text/plain": [
       "<matplotlib.colorbar.Colorbar at 0x113161690>"
      ]
     },
     "execution_count": 21,
     "metadata": {},
     "output_type": "execute_result"
    },
    {
     "data": {
      "image/png": "[encoded data removed]",
      "text/plain": [
       "<Figure size 1440x720 with 2 Axes>"
      ]
     },
     "metadata": {},
     "output_type": "display_data"
    }
   ],
   "source": [
    "from matplotlib.ticker import FuncFormatter\n",
    "import matplotlib.pyplot as plt\n",
    "import numpy as np\n",
    "%matplotlib inline\n",
    "\n",
    "x_wins, o_wins, draws = 0, 0, 0 \n",
    "win_pos_x = np.zeros((n_rows, n_columns), dtype=int)\n",
    "win_pos_o  = np.zeros((n_rows, n_columns), dtype=int)\n",
    "for i in range(100):\n",
    "    run_random_game()\n",
    "\n",
    "plt.figure(figsize = (20,10))\n",
    "plt.imshow(win_pos_x)\n",
    "plt.colorbar()"
   ]
  },
  {
   "cell_type": "code",
   "execution_count": 23,
   "metadata": {},
   "outputs": [
    {
     "data": {
      "text/plain": [
       "<matplotlib.colorbar.Colorbar at 0x113590250>"
      ]
     },
     "execution_count": 23,
     "metadata": {},
     "output_type": "execute_result"
    },
    {
     "data": {
      "image/png": "[encoded data removed]",
      "text/plain": [
       "<Figure size 432x288 with 2 Axes>"
      ]
     },
     "metadata": {},
     "output_type": "display_data"
    }
   ],
   "source": [
    "plt.imshow(win_pos_o, vmin=0, vmax=win_pos_x.max())\n",
    "plt.colorbar()"
   ]
  },
  {
   "cell_type": "code",
   "execution_count": 24,
   "metadata": {},
   "outputs": [
    {
     "data": {
      "image/png": "[encoded data removed]",
      "text/plain": [
       "<Figure size 1440x720 with 6 Axes>"
      ]
     },
     "metadata": {},
     "output_type": "display_data"
    }
   ],
   "source": [
    "import matplotlib.pyplot as plt\n",
    "plt.subplots(2, 3, figsize=(20, 10))\n",
    "\n",
    "games_num = [10, 20, 50, 100, 200, 300]\n",
    "k = 1\n",
    "for i in games_num:\n",
    "    x_wins, o_wins, draws = 0, 0, 0 \n",
    "    for j in range(i):\n",
    "        run_random_game()\n",
    "    x = np.arange(3)\n",
    "    money = [x_wins, o_wins, draws]\n",
    "    plt.subplot(2, 3, k)\n",
    "    k+=1\n",
    "    plt.bar(x, money,color=['r', 'y', 'b'])\n",
    "    plt.xticks(x, ('X', 'O', 'Draw'))\n",
    "    plt.title(str(i) + ' games')  \n",
    "\n",
    "plt.show()"
   ]
  },
  {
   "cell_type": "code",
   "execution_count": null,
   "metadata": {},
   "outputs": [],
   "source": []
  }
 ],
 "metadata": {
  "kernelspec": {
   "display_name": "Python 2",
   "language": "python",
   "name": "python2"
  },
  "language_info": {
   "codemirror_mode": {
    "name": "ipython",
    "version": 2
   },
   "file_extension": ".py",
   "mimetype": "text/x-python",
   "name": "python",
   "nbconvert_exporter": "python",
   "pygments_lexer": "ipython2",
   "version": "2.7.10"
  }
 },
 "nbformat": 4,
 "nbformat_minor": 1
}
