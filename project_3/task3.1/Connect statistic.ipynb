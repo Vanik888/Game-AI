{
 "cells": [
  {
   "cell_type": "code",
   "execution_count": 1,
   "metadata": {
    "collapsed": true
   },
   "outputs": [],
   "source": [
    "import matplotlib.pyplot as plt\n",
    "import numpy as np\n",
    "import time\n",
    "%matplotlib inline"
   ]
  },
  {
   "cell_type": "code",
   "execution_count": 2,
   "metadata": {
    "collapsed": true
   },
   "outputs": [],
   "source": [
    "%run connect_four_with_min_max.py\n",
    "%run constants.py"
   ]
  },
  {
   "cell_type": "markdown",
   "metadata": {},
   "source": [
    "### Statistics, collected during previous project"
   ]
  },
  {
   "cell_type": "code",
   "execution_count": 4,
   "metadata": {
    "collapsed": true
   },
   "outputs": [],
   "source": [
    "x_stat = [[0.0015, 0.0015, 0.0013, 0.0013, 0.0014, 0.0015, 0.0015],\n",
    "              [0.0058, 0.0058, 0.0059, 0.0062, 0.0058, 0.0059, 0.0059],\n",
    "              [0.0177, 0.0172, 0.0176, 0.0193, 0.0179, 0.0176, 0.0176],\n",
    "              [0.0255, 0.028, 0.0299, 0.0312, 0.0299, 0.0283, 0.0254],\n",
    "              [0.035, 0.0379, 0.0412, 0.0447, 0.0409, 0.0382, 0.0352],\n",
    "              [0.0455, 0.0488, 0.0525, 0.0597, 0.0521, 0.0486, 0.0453]]"
   ]
  },
  {
   "cell_type": "code",
   "execution_count": 5,
   "metadata": {
    "collapsed": true
   },
   "outputs": [],
   "source": [
    "def play_min_max_game(depth=2):\n",
    "    global x_wins\n",
    "    global o_wins\n",
    "    global draws\n",
    "    global win_pos_x\n",
    "    global win_pos_o\n",
    "\n",
    "    game = ConnectFourGame(depth, x_stat)\n",
    "    player = 1\n",
    "    mvcntr = 1\n",
    "    no_winner_yet = True\n",
    "\n",
    "    while game.move_still_possible() and no_winner_yet:\n",
    "        # get player symbol\n",
    "        name = symbols[player]\n",
    "        #print '%s moves' % name\n",
    "\n",
    "        # let player move at random\n",
    "        if player == 1:\n",
    "            prev_state = game.game_state\n",
    "            game.make_min_max_move(player)\n",
    "            cur_state = game.game_state\n",
    "            lastInserted_x, lastInserted_y = np.where(\n",
    "                np.not_equal(prev_state, cur_state))\n",
    "            game.last_inserted_row = lastInserted_x[0]\n",
    "            game.last_inserted_column = lastInserted_y[0]\n",
    "        else:\n",
    "            game.make_move(player)\n",
    "\n",
    "        # print current game state\n",
    "        #game.print_game_state()\n",
    "\n",
    "        # evaluate game state\n",
    "\n",
    "        if game.move_was_winning_move(player):\n",
    "            #print 'player %s wins after %d moves' % (name, mvcntr)\n",
    "            no_winner_yet = False\n",
    "            if player == 1:\n",
    "                x_wins +=1\n",
    "            else:\n",
    "                o_wins += 1\n",
    "                game.print_game_state()\n",
    "\n",
    "        # switch player and increase move counter\n",
    "        player *= -1\n",
    "        mvcntr += 1\n",
    "\n",
    "    if no_winner_yet:\n",
    "        #print 'game ended in a draw'\n",
    "        draws+=1"
   ]
  },
  {
   "cell_type": "code",
   "execution_count": 6,
   "metadata": {
    "collapsed": true
   },
   "outputs": [],
   "source": [
    "import matplotlib.pyplot as plt"
   ]
  },
  {
   "cell_type": "code",
   "execution_count": 6,
   "metadata": {
    "collapsed": false
   },
   "outputs": [
    {
     "name": "stdout",
     "output_type": "stream",
     "text": [
      "1000\n",
      "0\n",
      "0\n",
      "-28.8049264312\n"
     ]
    }
   ],
   "source": [
    "x_wins = 0\n",
    "o_wins = 0\n",
    "draws = 0\n",
    "win_pos_x = 0\n",
    "win_pos_o = 0\n",
    "start_time = time.time()\n",
    "for i in xrange(1000):\n",
    "    play_min_max_game(1)\n",
    "end_time = time.time()\n",
    "print x_wins\n",
    "print o_wins\n",
    "print draws\n",
    "print (start_time - end_time)/60.0"
   ]
  },
  {
   "cell_type": "code",
   "execution_count": 7,
   "metadata": {
    "collapsed": false
   },
   "outputs": [
    {
     "name": "stdout",
     "output_type": "stream",
     "text": [
      "1000\n",
      "0\n",
      "0\n",
      "-506.057203782\n"
     ]
    }
   ],
   "source": [
    "x_wins = 0\n",
    "o_wins = 0\n",
    "draws = 0\n",
    "win_pos_x = 0\n",
    "win_pos_o = 0\n",
    "start_time = time.time()\n",
    "for i in xrange(1000):\n",
    "    play_min_max_game(2)\n",
    "end_time = time.time()\n",
    "print x_wins\n",
    "print o_wins\n",
    "print draws\n",
    "print (start_time - end_time)/60.0"
   ]
  },
  {
   "cell_type": "code",
   "execution_count": 15,
   "metadata": {
    "collapsed": false
   },
   "outputs": [
    {
     "name": "stdout",
     "output_type": "stream",
     "text": [
      "10\n",
      "0\n",
      "0\n",
      "-111.284561066\n"
     ]
    }
   ],
   "source": [
    "x_wins = 0\n",
    "o_wins = 0\n",
    "draws = 0\n",
    "win_pos_x = 0\n",
    "win_pos_o = 0\n",
    "start_time = time.time()\n",
    "for i in xrange(10):\n",
    "    play_min_max_game(3)\n",
    "end_time = time.time()\n",
    "print x_wins\n",
    "print o_wins\n",
    "print draws\n",
    "print (start_time - end_time)/60.0"
   ]
  },
  {
   "cell_type": "code",
   "execution_count": 16,
   "metadata": {
    "collapsed": false
   },
   "outputs": [
    {
     "name": "stdout",
     "output_type": "stream",
     "text": [
      "50\n",
      "0\n",
      "0\n",
      "-567.909111901\n"
     ]
    }
   ],
   "source": [
    "x_wins = 0\n",
    "o_wins = 0\n",
    "draws = 0\n",
    "win_pos_x = 0\n",
    "win_pos_o = 0\n",
    "start_time = time.time()\n",
    "for i in xrange(50):\n",
    "    play_min_max_game(3)\n",
    "end_time = time.time()\n",
    "print x_wins\n",
    "print o_wins\n",
    "print draws\n",
    "print (start_time - end_time)/60.0"
   ]
  },
  {
   "cell_type": "code",
   "execution_count": 17,
   "metadata": {
    "collapsed": false
   },
   "outputs": [
    {
     "name": "stdout",
     "output_type": "stream",
     "text": [
      "100\n",
      "0\n",
      "0\n",
      "-1164.48156553\n"
     ]
    }
   ],
   "source": [
    "x_wins = 0\n",
    "o_wins = 0\n",
    "draws = 0\n",
    "win_pos_x = 0\n",
    "win_pos_o = 0\n",
    "start_time = time.time()\n",
    "for i in xrange(100):\n",
    "    play_min_max_game(3)\n",
    "end_time = time.time()\n",
    "print x_wins\n",
    "print o_wins\n",
    "print draws\n",
    "print (start_time - end_time)/60.0"
   ]
  },
  {
   "cell_type": "markdown",
   "metadata": {},
   "source": [
    "## Previous results"
   ]
  },
  {
   "cell_type": "code",
   "execution_count": 12,
   "metadata": {
    "collapsed": false
   },
   "outputs": [
    {
     "data": {
      "image/png": "[encoded data removed]",
      "text/plain": [
       "<Figure size 2000x1500 with 3 Axes>"
      ]
     },
     "metadata": {},
     "output_type": "display_data"
    }
   ],
   "source": [
    "res1 = [9217, 783, 0, 5.3]\n",
    "res2 = [9538, 461, 1, 37.1]\n",
    "res3 = [9730, 268, 2, 245.8]\n",
    "\n",
    "overall = [res1, res2, res3]\n",
    "plt.subplots(1, 3, figsize=(20, 15))\n",
    "k = 1\n",
    "for i in overall:\n",
    "    x = np.arange(3)\n",
    "    res = i[0:3]\n",
    "    time = i[3]\n",
    "    plt.subplot(2, 3, k)\n",
    "    k+=1\n",
    "    plt.bar(x, res,color=['r', 'y', 'b'])\n",
    "    plt.xticks(x, ('X', 'O', 'Draw'))\n",
    "    plt.yticks(np.arange(0, 11000, 1000))\n",
    "    plt.title(\"Depth: \" + str(k - 1) + '; Runtime: ' + str(time) + ' mins')\n",
    "\n",
    "plt.show()"
   ]
  },
  {
   "cell_type": "markdown",
   "metadata": {},
   "source": [
    "## Connect four on board 19x19"
   ]
  },
  {
   "cell_type": "code",
   "execution_count": 8,
   "metadata": {
    "collapsed": false
   },
   "outputs": [
    {
     "data": {
      "image/png": "[encoded data removed]",
      "text/plain": [
       "<Figure size 2000x1500 with 2 Axes>"
      ]
     },
     "metadata": {},
     "output_type": "display_data"
    }
   ],
   "source": [
    "res1 = [1000, 0, 0, 28.8]\n",
    "res2 = [1000, 0, 0, 506]\n",
    "\n",
    "overall = [res1, res2]\n",
    "plt.subplots(1, 2, figsize=(20, 15))\n",
    "k = 1\n",
    "for i in overall:\n",
    "    x = np.arange(3)\n",
    "    res = i[0:3]\n",
    "    time = i[3]\n",
    "    plt.subplot(2, 3, k)\n",
    "    k+=1\n",
    "    plt.bar(x, res,color=['r', 'y', 'b'])\n",
    "    plt.xticks(x, ('X', 'O', 'Draw'))\n",
    "    plt.yticks(np.arange(0, 1100, 100))\n",
    "    plt.title(\"Depth: \" + str(k - 1) + '; Runtime: ' + str(time) + ' mins')\n",
    "\n",
    "plt.show()"
   ]
  },
  {
   "cell_type": "code",
   "execution_count": 9,
   "metadata": {
    "collapsed": false
   },
   "outputs": [
    {
     "data": {
      "image/png": "[encoded data removed]",
      "text/plain": [
       "<Figure size 2000x1500 with 1 Axes>"
      ]
     },
     "metadata": {},
     "output_type": "display_data"
    }
   ],
   "source": [
    "res1 = [10, 0, 0, 111.2]\n",
    "\n",
    "overall = [res1]\n",
    "plt.subplots(1, 1, figsize=(20, 15))\n",
    "k = 1\n",
    "for i in overall:\n",
    "    x = np.arange(3)\n",
    "    res = i[0:3]\n",
    "    time = i[3]\n",
    "    plt.subplot(2, 3, k)\n",
    "    k+=1\n",
    "    plt.bar(x, res,color=['r', 'y', 'b'])\n",
    "    plt.xticks(x, ('X', 'O', 'Draw'))\n",
    "    plt.yticks(np.arange(0, 11, 1))\n",
    "    plt.title(\"Depth: \" + str(3) + '; Runtime: ' + str(time) + ' mins')\n",
    "\n",
    "plt.show()"
   ]
  },
  {
   "cell_type": "code",
   "execution_count": 11,
   "metadata": {
    "collapsed": false
   },
   "outputs": [
    {
     "data": {
      "image/png": "[encoded data removed]",
      "text/plain": [
       "<Figure size 2000x1500 with 1 Axes>"
      ]
     },
     "metadata": {},
     "output_type": "display_data"
    }
   ],
   "source": [
    "res1 = [50, 0, 0, 567.9]\n",
    "\n",
    "overall = [res1]\n",
    "plt.subplots(1, 1, figsize=(20, 15))\n",
    "k = 1\n",
    "for i in overall:\n",
    "    x = np.arange(3)\n",
    "    res = i[0:3]\n",
    "    time = i[3]\n",
    "    plt.subplot(2, 3, k)\n",
    "    k+=1\n",
    "    plt.bar(x, res,color=['r', 'y', 'b'])\n",
    "    plt.xticks(x, ('X', 'O', 'Draw'))\n",
    "    plt.yticks(np.arange(0, 60, 10))\n",
    "    plt.title(\"Depth: \" + str(3) + '; Runtime: ' + str(time) + ' mins')\n",
    "\n",
    "plt.show()"
   ]
  },
  {
   "cell_type": "code",
   "execution_count": 13,
   "metadata": {
    "collapsed": false
   },
   "outputs": [
    {
     "data": {
      "image/png": "[encoded data removed]",
      "text/plain": [
       "<Figure size 2000x1500 with 1 Axes>"
      ]
     },
     "metadata": {},
     "output_type": "display_data"
    }
   ],
   "source": [
    "res1 = [100, 0, 0, 1164.48]\n",
    "\n",
    "overall = [res1]\n",
    "plt.subplots(1, 1, figsize=(20, 15))\n",
    "k = 1\n",
    "for i in overall:\n",
    "    x = np.arange(3)\n",
    "    res = i[0:3]\n",
    "    time = i[3]\n",
    "    plt.subplot(2, 3, k)\n",
    "    k+=1\n",
    "    plt.bar(x, res,color=['r', 'y', 'b'])\n",
    "    plt.xticks(x, ('X', 'O', 'Draw'))\n",
    "    plt.yticks(np.arange(0, 110, 10))\n",
    "    plt.title(\"Depth: \" + str(3) + '; Runtime: ' + str(time) + ' mins')\n",
    "\n",
    "plt.show()"
   ]
  },
  {
   "cell_type": "code",
   "execution_count": null,
   "metadata": {
    "collapsed": true
   },
   "outputs": [],
   "source": [
    ""
   ]
  }
 ],
 "metadata": {
  "kernelspec": {
   "display_name": "Python 2",
   "language": "python",
   "name": "python2"
  },
  "language_info": {
   "codemirror_mode": {
    "name": "ipython",
    "version": 2.0
   },
   "file_extension": ".py",
   "mimetype": "text/x-python",
   "name": "python",
   "nbconvert_exporter": "python",
   "pygments_lexer": "ipython2",
   "version": "2.7.10"
  }
 },
 "nbformat": 4,
 "nbformat_minor": 0
}